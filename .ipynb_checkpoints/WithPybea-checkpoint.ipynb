{
 "cells": [
  {
   "cell_type": "code",
   "execution_count": 21,
   "id": "a8760788",
   "metadata": {},
   "outputs": [],
   "source": [
    "import requests\n",
    "import json\n",
    "import pandas as pd\n",
    "\n",
    "from pprint import pprint"
   ]
  },
  {
   "cell_type": "code",
   "execution_count": 19,
   "id": "c3681462",
   "metadata": {},
   "outputs": [
    {
     "data": {
      "text/plain": [
       "200"
      ]
     },
     "execution_count": 19,
     "metadata": {},
     "output_type": "execute_result"
    }
   ],
   "source": [
    "base_url = 'https://apps.bea.gov/api/data?&UserID=64C1A606-C86B-4702-A5D0-977F79A936D1&method=GetParameterList&datasetname=Regional&ResultFormat=JSON'\n",
    "r = requests.get(base_url)\n",
    "r.status_code"
   ]
  },
  {
   "cell_type": "code",
   "execution_count": 20,
   "id": "27b38706",
   "metadata": {},
   "outputs": [
    {
     "data": {
      "text/plain": [
       "{'BEAAPI': {'Request': {'RequestParam': [{'ParameterName': 'DATASETNAME',\n",
       "     'ParameterValue': 'REGIONAL'},\n",
       "    {'ParameterName': 'METHOD', 'ParameterValue': 'GETPARAMETERLIST'},\n",
       "    {'ParameterName': 'RESULTFORMAT', 'ParameterValue': 'JSON'},\n",
       "    {'ParameterName': 'USERID',\n",
       "     'ParameterValue': '64C1A606-C86B-4702-A5D0-977F79A936D1'}]},\n",
       "  'Results': {'Parameter': [{'ParameterName': 'GeoFips',\n",
       "     'ParameterDataType': 'string',\n",
       "     'ParameterDescription': 'Comma-delimited list of 5-character geographic codes; COUNTY for all counties, STATE for all states, MSA for all MSAs, MIC for all Micropolitan Areas, PORT for all state metro/nonmetro portions, DIV for all Metropolitan Divisions, CSA for all Combined Statistical Areas, state post office abbreviation for all counties in one state (e.g. NY)',\n",
       "     'ParameterIsRequiredFlag': '1',\n",
       "     'MultipleAcceptedFlag': '1'},\n",
       "    {'ParameterName': 'LineCode',\n",
       "     'ParameterDataType': 'integer',\n",
       "     'ParameterDescription': 'Line code for a statistic or industry',\n",
       "     'ParameterIsRequiredFlag': '1',\n",
       "     'MultipleAcceptedFlag': '0'},\n",
       "    {'ParameterName': 'TableName',\n",
       "     'ParameterDataType': 'string',\n",
       "     'ParameterDescription': 'Regional income or product table to retrieve',\n",
       "     'ParameterIsRequiredFlag': '1',\n",
       "     'ParameterDefaultValue': '',\n",
       "     'MultipleAcceptedFlag': '0'},\n",
       "    {'ParameterName': 'Year',\n",
       "     'ParameterDataType': 'string',\n",
       "     'ParameterDescription': 'Comma-delimted list of years; LAST5 for latest 5 years; LAST10 for latest 10 years; ALL for all years',\n",
       "     'ParameterIsRequiredFlag': '0',\n",
       "     'ParameterDefaultValue': 'LAST5',\n",
       "     'MultipleAcceptedFlag': '1'}]}}}"
      ]
     },
     "execution_count": 20,
     "metadata": {},
     "output_type": "execute_result"
    }
   ],
   "source": [
    "r.json()"
   ]
  },
  {
   "cell_type": "code",
   "execution_count": null,
   "id": "ec93c501",
   "metadata": {},
   "outputs": [],
   "source": []
  },
  {
   "cell_type": "code",
   "execution_count": null,
   "id": "c159518d",
   "metadata": {},
   "outputs": [],
   "source": []
  }
 ],
 "metadata": {
  "kernelspec": {
   "display_name": "Python 3 (ipykernel)",
   "language": "python",
   "name": "python3"
  },
  "language_info": {
   "codemirror_mode": {
    "name": "ipython",
    "version": 3
   },
   "file_extension": ".py",
   "mimetype": "text/x-python",
   "name": "python",
   "nbconvert_exporter": "python",
   "pygments_lexer": "ipython3",
   "version": "3.9.7"
  }
 },
 "nbformat": 4,
 "nbformat_minor": 5
}
