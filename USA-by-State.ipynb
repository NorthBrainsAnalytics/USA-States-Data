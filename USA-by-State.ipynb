{
 "cells": [
  {
   "cell_type": "markdown",
   "id": "68594a11",
   "metadata": {},
   "source": [
    "🇺🇸 <b><big> Data Analysis for USA by State </big></b> 🇺🇸\n",
    "<br>\n",
    "<br>\n",
    "Data downloaded from <a href=\"https://apps.bea.gov/API/signup/index.cfm\">BEA's API website</a> 🗂\n",
    "<br>\n",
    "<br>\n",
    "Designed by: Oskar Mierkiewicz & Sebastian Woźniczka\n",
    "<br>\n",
    "<img src=\"logo.png\" width=\"250\" height=\"320\" style=\"float:left\">\n",
    "<br>\n",
    "<br>"
   ]
  },
  {
   "cell_type": "code",
   "execution_count": 3,
   "id": "5994adb9",
   "metadata": {},
   "outputs": [],
   "source": [
    "from libraries.table_load import GetRegionalData\n",
    "import pandas as pd"
   ]
  },
  {
   "cell_type": "markdown",
   "id": "6e3c9219",
   "metadata": {},
   "source": [
    "Load data with chosen line codes for <b>SAEMP25N</b> frame 👇🏼"
   ]
  },
  {
   "cell_type": "code",
   "execution_count": 7,
   "id": "783353fb",
   "metadata": {},
   "outputs": [],
   "source": [
    "x = GetRegionalData()\n",
    "SAEMP25N_10 = x.bea_frame_return(line_code = 10, table_name= 'SAEMP25N')\n",
    "SAEMP25N_1000 = x.bea_frame_return(line_code = 1000, table_name= 'SAEMP25N')\n",
    "SAEMP25N_1101 = x.bea_frame_return(line_code = 1101, table_name= 'SAEMP25N')\n",
    "SAEMP25N_20 = x.bea_frame_return(line_code = 20, table_name= 'SAEMP25N')\n",
    "SAEMP25N_200 = x.bea_frame_return(line_code = 200, table_name= 'SAEMP25N')\n",
    "SAEMP25N_201 = x.bea_frame_return(line_code = 201, table_name= 'SAEMP25N')\n",
    "SAEMP25N_202 = x.bea_frame_return(line_code = 202, table_name= 'SAEMP25N')\n",
    "SAEMP25N_400 = x.bea_frame_return(line_code = 400, table_name= 'SAEMP25N')\n",
    "SAEMP25N_513 = x.bea_frame_return(line_code = 513, table_name= 'SAEMP25N')"
   ]
  },
  {
   "cell_type": "code",
   "execution_count": null,
   "id": "697400b1",
   "metadata": {},
   "outputs": [],
   "source": []
  },
  {
   "cell_type": "code",
   "execution_count": null,
   "id": "5a313cfc",
   "metadata": {},
   "outputs": [],
   "source": []
  }
 ],
 "metadata": {
  "kernelspec": {
   "display_name": "Python 3 (ipykernel)",
   "language": "python",
   "name": "python3"
  },
  "language_info": {
   "codemirror_mode": {
    "name": "ipython",
    "version": 3
   },
   "file_extension": ".py",
   "mimetype": "text/x-python",
   "name": "python",
   "nbconvert_exporter": "python",
   "pygments_lexer": "ipython3",
   "version": "3.9.7"
  }
 },
 "nbformat": 4,
 "nbformat_minor": 5
}
