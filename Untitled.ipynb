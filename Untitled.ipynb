{
 "cells": [
  {
   "cell_type": "code",
   "execution_count": 1,
   "id": "0212abe0",
   "metadata": {},
   "outputs": [],
   "source": [
    "import requests\n",
    "import json"
   ]
  },
  {
   "cell_type": "code",
   "execution_count": 2,
   "id": "dfc32540",
   "metadata": {},
   "outputs": [],
   "source": [
    "query = {\"USERID\" : \"64C1A606-C86B-4702-A5D0-977F79A936D1\", \n",
    "         #\"METHOD\" : \"GETDATASETLIST\", for the list of available datasets\n",
    "         \"RESULTFORMAT\" : \"JSON\",\n",
    "         \"DatasetName\" : \"\"\n",
    "       }\n",
    "\n",
    "response = requests.get(\"https://apps.bea.gov/api/data\", params=query)"
   ]
  },
  {
   "cell_type": "code",
   "execution_count": 3,
   "id": "dfa51aa7",
   "metadata": {},
   "outputs": [
    {
     "data": {
      "text/plain": [
       "200"
      ]
     },
     "execution_count": 3,
     "metadata": {},
     "output_type": "execute_result"
    }
   ],
   "source": [
    "response.status_code"
   ]
  },
  {
   "cell_type": "markdown",
   "id": "2cbbbee3",
   "metadata": {},
   "source": [
    "- If the above code is <b>200</b> then connection is set correctly"
   ]
  },
  {
   "cell_type": "code",
   "execution_count": 4,
   "id": "6c1b3f97",
   "metadata": {},
   "outputs": [
    {
     "name": "stdout",
     "output_type": "stream",
     "text": [
      "Connection is successful.\n"
     ]
    }
   ],
   "source": [
    "if response:\n",
    "  print('Connection is successful.')\n",
    "else:\n",
    "  print('Request returned an error.')"
   ]
  },
  {
   "cell_type": "code",
   "execution_count": 8,
   "id": "017df9c7",
   "metadata": {},
   "outputs": [],
   "source": [
    "#response.text"
   ]
  },
  {
   "cell_type": "code",
   "execution_count": 6,
   "id": "53d8da3d",
   "metadata": {
    "scrolled": true
   },
   "outputs": [
    {
     "name": "stdout",
     "output_type": "stream",
     "text": [
      "<class 'dict'>\n"
     ]
    }
   ],
   "source": [
    "print(type(response.json()))"
   ]
  },
  {
   "cell_type": "code",
   "execution_count": 7,
   "id": "34c6a95b",
   "metadata": {},
   "outputs": [
    {
     "data": {
      "text/plain": [
       "{'BEAAPI': {'Request': {'RequestParam': [{'ParameterName': 'USERID',\n",
       "     'ParameterValue': '64C1A606-C86B-4702-A5D0-977F79A936D1'},\n",
       "    {'ParameterName': 'METHOD', 'ParameterValue': 'GETDATASETLIST'},\n",
       "    {'ParameterName': 'RESULTFORMAT', 'ParameterValue': 'JSON'}]},\n",
       "  'Results': {'Dataset': [{'DatasetName': 'NIPA',\n",
       "     'DatasetDescription': 'Standard NIPA tables'},\n",
       "    {'DatasetName': 'NIUnderlyingDetail',\n",
       "     'DatasetDescription': 'Standard NI underlying detail tables'},\n",
       "    {'DatasetName': 'MNE', 'DatasetDescription': 'Multinational Enterprises'},\n",
       "    {'DatasetName': 'FixedAssets',\n",
       "     'DatasetDescription': 'Standard Fixed Assets tables'},\n",
       "    {'DatasetName': 'ITA',\n",
       "     'DatasetDescription': 'International Transactions Accounts'},\n",
       "    {'DatasetName': 'IIP',\n",
       "     'DatasetDescription': 'International Investment Position'},\n",
       "    {'DatasetName': 'InputOutput', 'DatasetDescription': 'Input-Output Data'},\n",
       "    {'DatasetName': 'IntlServTrade',\n",
       "     'DatasetDescription': 'International Services Trade'},\n",
       "    {'DatasetName': 'GDPbyIndustry', 'DatasetDescription': 'GDP by Industry'},\n",
       "    {'DatasetName': 'Regional', 'DatasetDescription': 'Regional data sets'},\n",
       "    {'DatasetName': 'UnderlyingGDPbyIndustry',\n",
       "     'DatasetDescription': 'Underlying GDP by Industry'},\n",
       "    {'DatasetName': 'APIDatasetMetaData',\n",
       "     'DatasetDescription': 'Metadata about other API datasets'}]}}}"
      ]
     },
     "execution_count": 7,
     "metadata": {},
     "output_type": "execute_result"
    }
   ],
   "source": [
    "#print(response.json())\n",
    "json.loads(response.content.decode('utf-8'))"
   ]
  },
  {
   "cell_type": "code",
   "execution_count": null,
   "id": "7e36f12a",
   "metadata": {},
   "outputs": [],
   "source": []
  },
  {
   "cell_type": "code",
   "execution_count": null,
   "id": "543d024e",
   "metadata": {},
   "outputs": [],
   "source": []
  }
 ],
 "metadata": {
  "kernelspec": {
   "display_name": "Python 3 (ipykernel)",
   "language": "python",
   "name": "python3"
  },
  "language_info": {
   "codemirror_mode": {
    "name": "ipython",
    "version": 3
   },
   "file_extension": ".py",
   "mimetype": "text/x-python",
   "name": "python",
   "nbconvert_exporter": "python",
   "pygments_lexer": "ipython3",
   "version": "3.9.7"
  }
 },
 "nbformat": 4,
 "nbformat_minor": 5
}
